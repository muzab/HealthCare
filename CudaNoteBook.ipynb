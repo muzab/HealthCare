{
  "nbformat": 4,
  "nbformat_minor": 0,
  "metadata": {
    "colab": {
      "name": "CudaNoteBook.ipynb",
      "provenance": [],
      "collapsed_sections": []
    },
    "kernelspec": {
      "name": "python3",
      "display_name": "Python 3"
    },
    "accelerator": "GPU"
  },
  "cells": [
    {
      "cell_type": "code",
      "metadata": {
        "id": "z60fEYFkFr2c",
        "colab_type": "code",
        "colab": {}
      },
      "source": [
        "!nvcc --version"
      ],
      "execution_count": null,
      "outputs": []
    },
    {
      "cell_type": "code",
      "metadata": {
        "id": "n9LprP7JQsQV",
        "colab_type": "code",
        "colab": {}
      },
      "source": [
        "!pip install git+git://github.com/andreinechaev/nvcc4jupyter.git\n",
        "%load_ext nvcc_plugin"
      ],
      "execution_count": null,
      "outputs": []
    },
    {
      "cell_type": "code",
      "metadata": {
        "id": "AGhVej-vHF4A",
        "colab_type": "code",
        "colab": {}
      },
      "source": [
        "!apt install libopenmpi-dev\n",
        "!pip install mpi4py"
      ],
      "execution_count": null,
      "outputs": []
    },
    {
      "cell_type": "code",
      "metadata": {
        "id": "ZPxQs1OtLXGR",
        "colab_type": "code",
        "colab": {}
      },
      "source": [
        ""
      ],
      "execution_count": null,
      "outputs": []
    },
    {
      "cell_type": "code",
      "metadata": {
        "id": "ah909D-XPTNj",
        "colab_type": "code",
        "colab": {
          "base_uri": "https://localhost:8080/",
          "height": 51
        },
        "outputId": "f3edddc8-24ac-42a6-9ca8-c89a2bf9bb74"
      },
      "source": [
        "%%cu\n",
        "#include <vector>\n",
        "#include <thread>\n",
        "#include <algorithm>\n",
        "#include <functional>\n",
        "#include <iostream>\n",
        "\n",
        "void do_work(unsigned id)\n",
        "{}\n",
        "\n",
        "void f()\n",
        "{\n",
        "    std::vector<std::thread> threads;\n",
        "    for(unsigned i=0;i<20;++i)\n",
        "    {\n",
        "        threads.push_back(std::thread(do_work,i));\n",
        "    }\n",
        "    std::for_each(threads.begin(),threads.end(),\n",
        "        std::mem_fn(&std::thread::join));\n",
        "}\n",
        "\n",
        "int main()\n",
        "{\n",
        "    f();\n",
        "    std::cout << \"Hello world\\n\";\n",
        "    return 0;\n",
        "}\n"
      ],
      "execution_count": null,
      "outputs": [
        {
          "output_type": "stream",
          "text": [
            "Hello world\n",
            "\n"
          ],
          "name": "stdout"
        }
      ]
    },
    {
      "cell_type": "code",
      "metadata": {
        "id": "0_MJ4BiDW9ud",
        "colab_type": "code",
        "colab": {}
      },
      "source": [
        "%%cu\n",
        "#include <thread>\n",
        "#include <iostream>\n",
        "\n",
        "\n",
        "\n",
        "void do_something(int& i) {\n",
        "    ++i;\n",
        "    //std::cout<<\"i = \"<<i<<std::endl;\n",
        "}\n",
        "\n",
        "struct func {\n",
        "    int &i;\n",
        "    \n",
        "    func(int& i_) : i(i_) { }\n",
        "\n",
        "    void operator()() {\n",
        "        for(unsigned j=0; j<1000000; ++j){\n",
        "            do_something(i);\n",
        "        }\n",
        "    }\n",
        "};\n",
        "\n",
        "void do_something_in_current_thread() { }\n",
        "\n",
        "void F() {\n",
        "    int some_local_state = 0;\n",
        "    func my_func(some_local_state);\n",
        "    std::thread t(my_func);\n",
        "\n",
        "    try{\n",
        "        do_something_in_current_thread();\n",
        "    }\n",
        "    catch(...){\n",
        "        t.join();\n",
        "        throw;\n",
        "    }\n",
        "    t.join();\n",
        "}\n",
        "\n",
        "int main()\n",
        "{\n",
        "    F();\n",
        "}"
      ],
      "execution_count": null,
      "outputs": []
    },
    {
      "cell_type": "code",
      "metadata": {
        "id": "oYO0GQkNN9vb",
        "colab_type": "code",
        "colab": {}
      },
      "source": [
        "%%cu\n",
        "#include <mutex>\n",
        "#include <condition_variable>\n",
        "#include <queue>\n",
        "#include <memory>\n",
        "\n",
        "namespace messaging\n",
        "{\n",
        "    struct message_base\n",
        "    {\n",
        "        virtual ~message_base()\n",
        "        {}\n",
        "    };\n",
        "\n",
        "    template<typename Msg>\n",
        "    struct wrapped_message:\n",
        "    message_base\n",
        "    {\n",
        "        Msg contents;\n",
        "        explicit wrapped_message(Msg const& contents_):\n",
        "            contents(contents_)\n",
        "        {}\n",
        "    };\n",
        "\n",
        "    class queue\n",
        "    {\n",
        "        std::mutex m;\n",
        "        std::condition_variable c;\n",
        "        std::queue<std::shared_ptr<message_base> > q;\n",
        "\n",
        "    public:\n",
        "\n",
        "        template<typename T>\n",
        "        void push(T const& msg)\n",
        "        {\n",
        "            std::lock_guard<std::mutex> lk(m);\n",
        "            q.push(std::make_shared<wrapped_message<T> >(msg));\n",
        "            c.notify_all();\n",
        "        }\n",
        "\n",
        "        std::shared_ptr<message_base> wait_and_pop()\n",
        "        {\n",
        "            std::unique_lock<std::mutex> lk(m);\n",
        "            c.wait(lk,[&]{return !q.empty();});\n",
        "            auto res=q.front();\n",
        "            q.pop();\n",
        "            return res;\n",
        "        }\n",
        "    };\n",
        "}"
      ],
      "execution_count": null,
      "outputs": []
    },
    {
      "cell_type": "code",
      "metadata": {
        "id": "gL8LLtexO3lF",
        "colab_type": "code",
        "colab": {}
      },
      "source": [
        "%%cu\n",
        "namespace messaging\n",
        "{\n",
        "    class sender\n",
        "    {\n",
        "        queue*q;\n",
        "\n",
        "    public:\n",
        "\n",
        "        sender():\n",
        "        q(nullptr) {}\n",
        "\n",
        "        explicit sender(queue*q_) : q(q_)\n",
        "        {}\n",
        "\n",
        "        template<typename Message>\n",
        "        void send(Message const& msg)\n",
        "        {\n",
        "            if(q)\n",
        "            {\n",
        "                q->push(msg);\n",
        "            }\n",
        "        }\n",
        "    };\n",
        "}"
      ],
      "execution_count": null,
      "outputs": []
    },
    {
      "cell_type": "code",
      "metadata": {
        "id": "ltwTnNrIPZ4W",
        "colab_type": "code",
        "colab": {}
      },
      "source": [
        "%%cu\n",
        "\n",
        "namespace messaging\n",
        "{\n",
        "    class receiver\n",
        "    {\n",
        "        queue q;\n",
        "\n",
        "    public:\n",
        "     \n",
        "        operator sender()\n",
        "        {\n",
        "            return sender(&q);\n",
        "        }\n",
        "\n",
        "        dispatcher wait()\n",
        "        {\n",
        "            return dispatcher(&q);\n",
        "        }\n",
        "    };\n",
        "}"
      ],
      "execution_count": null,
      "outputs": []
    },
    {
      "cell_type": "code",
      "metadata": {
        "id": "QfzjIiTSRtkd",
        "colab_type": "code",
        "colab": {}
      },
      "source": [
        "%%cu\n",
        "namespace messaging\n",
        "{\n",
        "    class close_queue\n",
        "    {};\n",
        "\n",
        "    class dispatcher\n",
        "    {\n",
        "        queue* q;\n",
        "        bool chained;\n",
        "\n",
        "        dispatcher(dispatcher const&)=delete;\n",
        "        dispatcher& operator=(dispatcher const&)=delete;\n",
        "\n",
        "        template<typename Dispatcher, typename Msg, typename Func>\n",
        "        friend class TemplateDispatcher;\n",
        "\n",
        "        void wait_and_dispatch()\n",
        "        {\n",
        "            for(;;)\n",
        "            {\n",
        "                auto msg=q->wait_and_pop();\n",
        "                dispatch(msg);\n",
        "            }\n",
        "        }\n",
        "\n",
        "\n",
        "        bool dispatch(std::shared_ptr<message_base> const& msg)\n",
        "        {\n",
        "\n",
        "            if(dynamic_cast<wrapped_message<close_queue>*>(msg.get()))\n",
        "            {\n",
        "                throw close_queue();\n",
        "            }\n",
        "            return false;\n",
        "        }\n",
        "\n",
        "    public:\n",
        "\n",
        "        dispatcher(dispatcher&& other) : q(other.q),chained(other.chained)\n",
        "        {\n",
        "            other.chained=true;\n",
        "        }\n",
        "\n",
        "        explicit dispatcher(queue* q_) : q(q_),chained(false)\n",
        "        {}\n",
        "\n",
        "        template<typename Message,typename Func>\n",
        "        TemplateDispatcher<dispatcher,Message,Func>\n",
        "\n",
        "        handle(Func&& f)\n",
        "        {\n",
        "            return TemplateDispatcher<dispatcher,Message,Func>(\n",
        "                q,this,std::forward<Func>(f));\n",
        "        }\n",
        "\n",
        "        ~dispatcher() noexcept(false)\n",
        "        {\n",
        "            if(!chained)\n",
        "            {\n",
        "                wait_and_dispatch();\n",
        "            }\n",
        "        }\n",
        "    };\n",
        "}"
      ],
      "execution_count": null,
      "outputs": []
    }
  ]
}